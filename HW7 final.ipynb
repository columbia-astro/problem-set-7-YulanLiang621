{
 "cells": [
  {
   "cell_type": "code",
   "execution_count": 1,
   "metadata": {
    "collapsed": false
   },
   "outputs": [
    {
     "name": "stdout",
     "output_type": "stream",
     "text": [
      "Requirement already satisfied (use --upgrade to upgrade): kplr in c:\\users\\dell\\anaconda3\\lib\\site-packages\n",
      "Requirement already satisfied (use --upgrade to upgrade): six in c:\\users\\dell\\anaconda3\\lib\\site-packages (from kplr)\n"
     ]
    },
    {
     "name": "stderr",
     "output_type": "stream",
     "text": [
      "You are using pip version 8.1.2, however version 10.0.0 is available.\n",
      "You should consider upgrading via the 'python -m pip install --upgrade pip' command.\n"
     ]
    },
    {
     "data": {
      "text/plain": [
       "0"
      ]
     },
     "execution_count": 1,
     "metadata": {},
     "output_type": "execute_result"
    }
   ],
   "source": [
    "import pip\n",
    "pip.main(['install','kplr'])"
   ]
  },
  {
   "cell_type": "code",
   "execution_count": 2,
   "metadata": {
    "collapsed": false
   },
   "outputs": [
    {
     "name": "stdout",
     "output_type": "stream",
     "text": [
      "Found local file: 'C:\\Users\\DELL\\.kplr\\data\\lightcurves\\005780885\\kplr005780885-2009131105131_llc.fits'\n"
     ]
    },
    {
     "data": {
      "text/plain": [
       "<bound method HDUList.close of [<astropy.io.fits.hdu.image.PrimaryHDU object at 0x0000024E3061A208>, <astropy.io.fits.hdu.table.BinTableHDU object at 0x0000024E3061D2E8>, <astropy.io.fits.hdu.image.ImageHDU object at 0x0000024E30622E80>]>"
      ]
     },
     "execution_count": 2,
     "metadata": {},
     "output_type": "execute_result"
    }
   ],
   "source": [
    "import math\n",
    "import numpy as np\n",
    "import kplr\n",
    "\n",
    "#find the target KOI\n",
    "client = kplr.API()\n",
    "koi = client.koi(97.01)\n",
    "\n",
    "#Get a list of light curve datasets\n",
    "lcs = koi.get_light_curves(short_cadence=False)\n",
    "\n",
    "#Open the first dataset and read it\n",
    "f = lcs[0].open()\n",
    "hdu_data = f[1].data\n",
    "time = hdu_data[\"time\"] # get the time of each observation\n",
    "flux = hdu_data[\"sap_flux\"] # get the flux\n",
    "flux_err = hdu_data[\"sap_flux_err\"] # get the error in the flux\n",
    "f.close"
   ]
  },
  {
   "cell_type": "code",
   "execution_count": 3,
   "metadata": {
    "collapsed": false
   },
   "outputs": [],
   "source": [
    "index = np.where((time > 124)& (time < 125))\n",
    "time_obs = time[index]\n",
    "flux_obs = flux[index]\n",
    "flux_err_obs = flux_err[index]"
   ]
  },
  {
   "cell_type": "code",
   "execution_count": 4,
   "metadata": {
    "collapsed": false
   },
   "outputs": [],
   "source": [
    "# problem 1\n",
    "import numpy as np\n",
    "import math\n",
    "\n",
    "def F_com(flux):\n",
    "    flux_list=[]\n",
    "    a = np.mean(flux)\n",
    "    b = np.std(flux)\n",
    "    for i in range(0,len(flux),1):\n",
    "        if (abs(flux[i]-a)/b<=2):\n",
    "            flux_list.append(flux[i])\n",
    "    return flux_list\n",
    "\n",
    "#repeat 8 times to obtain Fbar\n",
    "flux=flux_obs\n",
    "for j in range(1,8,1):\n",
    "    flux=F_com(flux)\n",
    "flux_mean = sum(flux)/len(flux)\n",
    "flux = flux_obs/flux_mean\n",
    "flux_err = flux_err_obs/flux_mean\n",
    "\n",
    "#find  chi square using the guessing parameters\n",
    "tao = 0.1\n",
    "t0 = 124.51\n",
    "z = (time_obs-t0)/tao\n",
    "\n",
    "def rect_int(integrand, lim_0, lim_1, nx):\n",
    "    \"\"\"rectangle rule integration.\n",
    "         integrand: the function f(x) to be integrated.\n",
    "         lim_0 and lim_1: lower and upper integration limits\n",
    "         nx: the number of integration steps\"\"\"\n",
    "    delx = (lim_1 - lim_0) / float(nx)  #rectangle width\n",
    "    result = 0\n",
    "    for i in np.arange(int(nx)):\n",
    "        x       = lim_0 + i * delx   #the current ordinate\n",
    "        f_x     = integrand(x)       #using the function provided\n",
    "        result += f_x*delx           #a += 1 same as a = a + 1\n",
    "    return result\n",
    "\n",
    "\n",
    "def delta(p, r, z):\n",
    "    \"\"\"returns the value of the delta function (equation 2),\n",
    "    protecting against obvious fault.\"\"\"\n",
    "    if (r >= z + p) or (r <= z - p):\n",
    "        return 0\n",
    "    elif (r + z <= p):\n",
    "        return 1\n",
    "    else:  #all other cases\n",
    "        if (z != 0) and (r!=0): #prevent div by zero errors\n",
    "            argument = (z*z - p*p + r*r) / (2.0*z*r)\n",
    "        else:\n",
    "            print('Either z or r vanished. z =',z,'; and r =',r,'.')\n",
    "        return (1.0/math.pi) * math.acos(argument)\n",
    "    \n",
    "def mu(r):\n",
    "    return (1-r**2)**0.5\n",
    "def limb_func(r):\n",
    "    return 1-(1-mu(r)**0.5)\n",
    "    \n",
    "\n",
    "def flux_func(p,z,int_func,limb_func, nx):\n",
    "    \"\"\"return the value of the flux, using equation 1. p & z are the \n",
    "    parameters, int_func is the integration routine, limb_func is the \n",
    "    chosen limb darkening profile, and nx is the number of integration \n",
    "    steps.\"\"\"\n",
    "    \n",
    "    # integrand for the numerator\n",
    "    def numerator(r, p = p, z = z):  #default parameters allow passing data\n",
    "        return limb_func(r) * (1.0 - delta(p, r, z)) * 2.0 * r\n",
    "    \n",
    "    # and for the denominator\n",
    "    def denominator (r):\n",
    "        return limb_func(r) * 2.0 * r\n",
    "    \n",
    "    #now do the integrations\n",
    "    top    = int_func(numerator,   0.0, 1.0, nx)\n",
    "    bottom = int_func(denominator, 0.0, 1.0, nx)\n",
    "        \n",
    "    return top/bottom\n",
    "\n",
    "F_estimated = []\n",
    "for i in range(0,len(flux),1):\n",
    "    F_estimated.append(flux_func(0.0775, abs(z[i]),rect_int,limb_func, 10**3))\n",
    "\n",
    "X_square=0\n",
    "for i in range(0,len(flux),1):\n",
    "    X_square = X_square + ((flux[i]-F_estimated[i])/flux_err[i])**2   "
   ]
  },
  {
   "cell_type": "code",
   "execution_count": 5,
   "metadata": {
    "collapsed": false
   },
   "outputs": [
    {
     "name": "stdout",
     "output_type": "stream",
     "text": [
      "X_square= 464.170373532\n"
     ]
    }
   ],
   "source": [
    "print(\"X_square=\", X_square)\n"
   ]
  },
  {
   "cell_type": "code",
   "execution_count": 6,
   "metadata": {
    "collapsed": false
   },
   "outputs": [
    {
     "data": {
      "image/png": "[encoded data removed]",
      "text/plain": [
       "<matplotlib.figure.Figure at 0x24e2d7e9a90>"
      ]
     },
     "metadata": {},
     "output_type": "display_data"
    },
    {
     "name": "stdout",
     "output_type": "stream",
     "text": [
      "It is a good fit\n"
     ]
    }
   ],
   "source": [
    "# problem 2\n",
    "import matplotlib.pyplot as plt\n",
    "%matplotlib inline\n",
    "p1 = plt.scatter(z, flux, marker = '.', color = 'blue')\n",
    "p2 = plt.scatter(z, F_estimated, marker = 'x',color = 'green')\n",
    "plt.xlabel('z')\n",
    "plt.ylabel('flux')\n",
    "plt.show()\n",
    "print(\"It is a good fit\")\n"
   ]
  },
  {
   "cell_type": "code",
   "execution_count": 7,
   "metadata": {
    "collapsed": false
   },
   "outputs": [
    {
     "name": "stdout",
     "output_type": "stream",
     "text": [
      "Q = [  1.75064678e-70   1.48683023e-73]\n",
      "p_value is too small thus it is not a good fit\n"
     ]
    }
   ],
   "source": [
    "N = len(flux)\n",
    "M = 3\n",
    "V = N-M\n",
    "\n",
    "import numpy as np\n",
    "from scipy.special import gamma\n",
    "from scipy.integrate import quad,dblquad,nquad\n",
    "\n",
    "Q = quad(lambda x:np.exp(-x)*x**(V/2-1), X_square/2,np.inf)/gamma(V/2)\n",
    "print(\"Q =\", Q)\n",
    "print(\"p_value is too small thus it is not a good fit\")"
   ]
  },
  {
   "cell_type": "code",
   "execution_count": 8,
   "metadata": {
    "collapsed": false
   },
   "outputs": [
    {
     "name": "stdout",
     "output_type": "stream",
     "text": [
      "minimum chi square = 245.082238281\n",
      "corresponding tao = 0.09700000000000002\n"
     ]
    }
   ],
   "source": [
    "#problem 3\n",
    "import numpy as np\n",
    "tao =0.08\n",
    "t0 = 124.51\n",
    "tao_list = []\n",
    "X_square_list = []\n",
    "while tao<0.13:\n",
    "    tao_list.append(tao)\n",
    "    z = (time_obs-t0)/tao\n",
    "    F_estimated = []\n",
    "    X_square=0\n",
    "    for i in range(0, len(flux), 1):\n",
    "        F_estimated.append(flux_func(0.0775, abs(z[i]),rect_int,limb_func, 10**3))\n",
    "        X_square = X_square + ((flux[i] - F_estimated[i])/flux_err[i])**2\n",
    "    X_square_list.append(X_square)\n",
    "    tao = tao+0.001\n",
    "    \n",
    "index = np.where(X_square_list==np.min(X_square_list))\n",
    "print(\"minimum chi square =\", X_square_list[17])\n",
    "print(\"corresponding tao =\", tao_list[17])\n",
    "\n",
    "\n"
   ]
  },
  {
   "cell_type": "code",
   "execution_count": 9,
   "metadata": {
    "collapsed": false
   },
   "outputs": [
    {
     "data": {
      "image/png": "[encoded data removed]",
      "text/plain": [
       "<matplotlib.figure.Figure at 0x24e30720da0>"
      ]
     },
     "metadata": {},
     "output_type": "display_data"
    },
    {
     "name": "stdout",
     "output_type": "stream",
     "text": [
      "Q = [  5.72161036e-29   8.49177109e-31]\n",
      "p_value is too small thus it is not a good fit\n"
     ]
    }
   ],
   "source": [
    "# plot the result\n",
    "tao = 0.097\n",
    "z= (time_obs-t0)/tao\n",
    "t0 = 124.51\n",
    "F_estimated=[]\n",
    "for i in range(0, len(flux), 1):\n",
    "    F_estimated.append(flux_func(0.0775, abs(z[i]),rect_int,limb_func, 10**3))\n",
    "    \n",
    "import matplotlib.pyplot as plt\n",
    "%matplotlib inline\n",
    "p1 = plt.scatter(z, flux, marker = '.', color = 'blue')\n",
    "p2 = plt.scatter(z, F_estimated, marker = 'x',color = 'green')\n",
    "plt.xlabel('z')\n",
    "plt.ylabel('flux')\n",
    "plt.show()\n",
    "\n",
    "N = len(flux)\n",
    "M = 3\n",
    "V = N-M\n",
    "\n",
    "import numpy as np\n",
    "from scipy.special import gamma\n",
    "from scipy.integrate import quad,dblquad,nquad\n",
    "\n",
    "Q = quad(lambda x:np.exp(-x)*x**(V/2-1), X_square_list[17]/2,np.inf)/gamma(V/2)\n",
    "print(\"Q =\", Q)\n",
    "print(\"p_value is too small thus it is not a good fit\")"
   ]
  },
  {
   "cell_type": "code",
   "execution_count": 10,
   "metadata": {
    "collapsed": false
   },
   "outputs": [],
   "source": [
    "#determine the one-sigma uncertainty\n",
    "tao = 0.0965\n",
    "t0 = 124.51\n",
    "X_square_list2 = []\n",
    "tao_list2 = []\n",
    "while tao < 0.0975:\n",
    "    tao_list2.append(tao)\n",
    "    z=(time_obs-t0)/tao\n",
    "    F_estimated2 = []\n",
    "    X_square = 0\n",
    "    for i in range(0,len(flux),1):\n",
    "        F_estimated2.append(flux_func(0.0775, abs(z[i]),rect_int,limb_func, 10**3))\n",
    "        X_square = X_square + ((flux[i]-F_estimated2[i])/flux_err[i])**2\n",
    "    X_square_list2.append(X_square)\n",
    "    tao=tao+0.00001"
   ]
  },
  {
   "cell_type": "code",
   "execution_count": 11,
   "metadata": {
    "collapsed": false
   },
   "outputs": [
    {
     "data": {
      "image/png": "[encoded data removed]",
      "text/plain": [
       "<matplotlib.figure.Figure at 0x24e30d542b0>"
      ]
     },
     "metadata": {},
     "output_type": "display_data"
    }
   ],
   "source": [
    "import matplotlib.pyplot as plt\n",
    "%matplotlib inline\n",
    "plt.scatter(tao_list2, X_square_list2, marker = '.', color = 'blue')\n",
    "y= X_square_list[17]+1\n",
    "plt.plot(tao,y,color = 'green')\n",
    "plt.xlabel('tao')\n",
    "plt.ylabel('chi square')\n",
    "plt.show()"
   ]
  },
  {
   "cell_type": "code",
   "execution_count": 12,
   "metadata": {
    "collapsed": false
   },
   "outputs": [
    {
     "data": {
      "text/plain": [
       "(array([19, 20, 21, 22, 23, 24, 25, 26, 27, 28, 29, 30, 31, 32, 33, 34, 35,\n",
       "        36, 37, 38, 39, 40, 41, 42, 43, 44, 45, 46, 47, 48, 49, 50, 51, 52,\n",
       "        53, 54, 55, 56, 57, 58, 59, 60, 61, 62, 63], dtype=int64),)"
      ]
     },
     "execution_count": 12,
     "metadata": {},
     "output_type": "execute_result"
    }
   ],
   "source": [
    "index = np.where(X_square_list2 < X_square_list[17]+1)\n",
    "index"
   ]
  },
  {
   "cell_type": "code",
   "execution_count": 13,
   "metadata": {
    "collapsed": false
   },
   "outputs": [
    {
     "name": "stdout",
     "output_type": "stream",
     "text": [
      "one_sigma uncertainty = 0.0004399999999998294\n"
     ]
    }
   ],
   "source": [
    "u = tao_list2[63]-tao_list2[19]\n",
    "print(\"one_sigma uncertainty =\", u)"
   ]
  },
  {
   "cell_type": "code",
   "execution_count": 15,
   "metadata": {
    "collapsed": false
   },
   "outputs": [
    {
     "name": "stdout",
     "output_type": "stream",
     "text": [
      "Requirement already satisfied (use --upgrade to upgrade): emcee in c:\\users\\dell\\anaconda3\\lib\\site-packages\n",
      "Requirement already satisfied (use --upgrade to upgrade): numpy in c:\\users\\dell\\anaconda3\\lib\\site-packages (from emcee)\n"
     ]
    },
    {
     "name": "stderr",
     "output_type": "stream",
     "text": [
      "You are using pip version 8.1.2, however version 10.0.0 is available.\n",
      "You should consider upgrading via the 'python -m pip install --upgrade pip' command.\n"
     ]
    },
    {
     "data": {
      "text/plain": [
       "0"
      ]
     },
     "execution_count": 15,
     "metadata": {},
     "output_type": "execute_result"
    }
   ],
   "source": [
    "#problem 4\n",
    "import pip\n",
    "pip.main(['install','emcee'])"
   ]
  },
  {
   "cell_type": "code",
   "execution_count": 16,
   "metadata": {
    "collapsed": false
   },
   "outputs": [],
   "source": [
    "import emcee\n",
    "import numpy as np\n",
    "import matplotlib.pyplot\n",
    "\n",
    "def X_square(p,t0,tao):\n",
    "    z=(time_obs-t0)/tao\n",
    "    F_estimated=[]\n",
    "    for i in range (0,len(flux),1):\n",
    "        F_estimated.append(flux_func(p, abs(z[i]),rect_int,limb_func, 10**3))\n",
    "    X_square = 0\n",
    "    for i in range (0,len(flux),1):\n",
    "        X_square = X_square + ((flux[i]-F_estimated[i])/flux_err[i])**2\n",
    "    return X_square\n",
    "\n",
    "def inprob(x):\n",
    "    p,t0,tao = x\n",
    "    return -0.5*X_square(p,t0,tao)\n",
    "ndim, nwalkers = 3, 50"
   ]
  },
  {
   "cell_type": "code",
   "execution_count": 17,
   "metadata": {
    "collapsed": false
   },
   "outputs": [],
   "source": [
    "a=np.array([0.07,124.5,0.1])\n",
    "p0 = [a+1.0e-3*np.random.rand(ndim) for i in range(nwalkers)]"
   ]
  },
  {
   "cell_type": "code",
   "execution_count": 18,
   "metadata": {
    "collapsed": true
   },
   "outputs": [],
   "source": [
    "sampler = emcee.EnsembleSampler(nwalkers, ndim, inprob)"
   ]
  },
  {
   "cell_type": "code",
   "execution_count": 20,
   "metadata": {
    "collapsed": false,
    "scrolled": false
   },
   "outputs": [
    {
     "data": {
      "text/plain": [
       "(array([[  7.71149139e-02,   1.24505242e+02,   1.01248836e-01],\n",
       "        [  7.73539929e-02,   1.24505505e+02,   1.00990087e-01],\n",
       "        [  7.71550394e-02,   1.24505350e+02,   1.01077608e-01],\n",
       "        [  7.71038893e-02,   1.24505113e+02,   1.01406928e-01],\n",
       "        [  7.73167136e-02,   1.24505367e+02,   1.01044774e-01],\n",
       "        [  7.72974815e-02,   1.24505232e+02,   1.01293460e-01],\n",
       "        [  7.72487815e-02,   1.24505218e+02,   1.01305064e-01],\n",
       "        [  7.70603008e-02,   1.24505150e+02,   1.01112229e-01],\n",
       "        [  7.69839257e-02,   1.24505220e+02,   1.00930590e-01],\n",
       "        [  7.69648247e-02,   1.24504764e+02,   1.01435270e-01],\n",
       "        [  7.73151979e-02,   1.24505224e+02,   1.01368444e-01],\n",
       "        [  7.67342260e-02,   1.24505297e+02,   1.01046570e-01],\n",
       "        [  7.73387405e-02,   1.24505216e+02,   1.00929867e-01],\n",
       "        [  7.68988410e-02,   1.24505379e+02,   1.01163220e-01],\n",
       "        [  7.72022640e-02,   1.24505112e+02,   1.01109080e-01],\n",
       "        [  7.71803996e-02,   1.24505053e+02,   1.00751435e-01],\n",
       "        [  7.72066263e-02,   1.24505139e+02,   1.01455951e-01],\n",
       "        [  7.75810816e-02,   1.24505603e+02,   1.00839758e-01],\n",
       "        [  7.75134111e-02,   1.24505216e+02,   1.01129574e-01],\n",
       "        [  7.71790925e-02,   1.24505337e+02,   1.01164011e-01],\n",
       "        [  7.72128929e-02,   1.24505063e+02,   1.00925836e-01],\n",
       "        [  7.72392327e-02,   1.24505439e+02,   1.01460329e-01],\n",
       "        [  7.71874986e-02,   1.24505615e+02,   1.01180974e-01],\n",
       "        [  7.72763352e-02,   1.24505320e+02,   1.00978006e-01],\n",
       "        [  7.71924033e-02,   1.24505575e+02,   1.01318980e-01],\n",
       "        [  7.72171688e-02,   1.24505520e+02,   1.00697766e-01],\n",
       "        [  7.71956448e-02,   1.24505539e+02,   1.01231391e-01],\n",
       "        [  7.69654148e-02,   1.24505079e+02,   1.01105713e-01],\n",
       "        [  7.71698006e-02,   1.24505199e+02,   1.01217896e-01],\n",
       "        [  7.73559707e-02,   1.24505617e+02,   1.00986881e-01],\n",
       "        [  7.69780225e-02,   1.24505405e+02,   1.01320079e-01],\n",
       "        [  7.72057236e-02,   1.24505086e+02,   1.01150670e-01],\n",
       "        [  7.70248191e-02,   1.24505050e+02,   1.01148579e-01],\n",
       "        [  7.73649412e-02,   1.24505153e+02,   1.01191282e-01],\n",
       "        [  7.74092083e-02,   1.24505230e+02,   1.00989047e-01],\n",
       "        [  7.71715341e-02,   1.24505468e+02,   1.01201364e-01],\n",
       "        [  7.70375804e-02,   1.24505411e+02,   1.01359371e-01],\n",
       "        [  7.71827507e-02,   1.24505163e+02,   1.00956200e-01],\n",
       "        [  7.72187887e-02,   1.24505092e+02,   1.01220263e-01],\n",
       "        [  7.75495801e-02,   1.24505382e+02,   1.01392057e-01],\n",
       "        [  7.72454543e-02,   1.24505048e+02,   1.01123979e-01],\n",
       "        [  7.73039634e-02,   1.24505279e+02,   1.00811020e-01],\n",
       "        [  7.73754198e-02,   1.24504981e+02,   1.01378214e-01],\n",
       "        [  7.73924279e-02,   1.24505278e+02,   1.01199752e-01],\n",
       "        [  7.71053178e-02,   1.24505125e+02,   1.01189690e-01],\n",
       "        [  7.72868650e-02,   1.24505256e+02,   1.00811308e-01],\n",
       "        [  7.71217759e-02,   1.24505008e+02,   1.01307723e-01],\n",
       "        [  7.73043081e-02,   1.24505181e+02,   1.01169380e-01],\n",
       "        [  7.69437822e-02,   1.24505322e+02,   1.01448428e-01],\n",
       "        [  7.70542473e-02,   1.24504954e+02,   1.01423448e-01]]),\n",
       " array([-26.62863344, -27.89085834, -26.53090248, -27.62640062,\n",
       "        -26.91208052, -27.19907683, -27.08499826, -26.74469232,\n",
       "        -27.97561862, -31.00317237, -27.94958079, -30.41705136,\n",
       "        -27.04311696, -28.10711073, -26.64398708, -29.23823852,\n",
       "        -28.15369502, -31.24445437, -28.67048235, -26.53506033,\n",
       "        -27.64363366, -29.37345793, -28.66732422, -26.76402175,\n",
       "        -29.12099831, -29.11857609, -28.12161149, -27.76561451,\n",
       "        -26.54780602, -28.88068767, -27.96140387, -26.76024119,\n",
       "        -27.32596813, -27.33007639, -27.47463428, -27.35675583,\n",
       "        -28.05222182, -26.91412858, -26.90498463, -31.63994319,\n",
       "        -27.04338101, -27.78539791, -29.20322696, -27.6189429 ,\n",
       "        -26.67320942, -27.72369961, -27.47569529, -26.87883218,\n",
       "        -28.81393503, -28.57991883]),\n",
       " ('MT19937', array([1322117896, 2829278739, 4289984191, 1930343351, 2082635507,\n",
       "         2999304371, 4042549437,    4327288, 2518518092,  953063801,\n",
       "          492750201, 1546190091, 1784055024, 2421751305, 4040505835,\n",
       "         1473056023, 3879854710, 2312960150, 4073438654,  282663169,\n",
       "         3389375360, 3384139704, 1517530718, 1521281243,  332591862,\n",
       "         2627023545,  760110908,  343925911, 2410497738, 1035389839,\n",
       "         2556180194, 1217375118, 1410212905,  677673586,  476380994,\n",
       "         1521975625, 3707069061, 1219929208, 1976285953,  161766469,\n",
       "         1364324975,   19346750, 1532303981, 1159602621, 2779367280,\n",
       "         3743863205, 2285001478, 2548848838, 3199721327, 3258817091,\n",
       "         2217624840, 2742013051, 1274578611, 1303720340, 3525425968,\n",
       "         3744241488,  590518056, 2441320143, 2256453907,  532312421,\n",
       "         3495383363, 3151588062, 2082317119, 4203071502,  720300531,\n",
       "         3394958160, 3460808634, 3206364557, 3008189741, 3599983949,\n",
       "         3667385278,   18173544,  195242644, 2337014625, 3875345584,\n",
       "         2396578769,  378083224,  477367716, 3860397716, 2272108730,\n",
       "         1844815091, 1462375308,  851185943, 3672017057,  396376896,\n",
       "         3727758187, 1814476578, 2090079602, 2259557093, 2761294548,\n",
       "         1616620231,  386347307, 1594432206, 2422325427, 3236904799,\n",
       "         3577206837, 1126123428,  349246695, 2784435464,  259372287,\n",
       "         2075971163, 2564623605,  340107784,  260878689, 1568877405,\n",
       "         2641645885, 1179462010,  460754357, 1305616332, 2613723446,\n",
       "         4092422036, 1362520817, 2085264983, 2699785236,  500165779,\n",
       "         3913337922, 2510552372, 1014366447,  990557558,  629541454,\n",
       "         1026776521,  147690037, 2403873541,  430597385, 1170405836,\n",
       "         3905612608, 1418531710, 1504625845,  976678812, 3646277186,\n",
       "         1204100341, 1630663021, 1478309527, 2695666542, 3330421598,\n",
       "         3122170865, 3526261075, 2451862253, 3662160847,  897733413,\n",
       "         1799116581, 1593936318, 3337817472,  256692235, 1435595599,\n",
       "         2861037556, 2079508929, 1788529450, 1095929602, 1805906640,\n",
       "         3997969680, 2096408318, 2392659794, 2725622799, 1071707966,\n",
       "         4157267259, 3196725682, 3492455759, 3484130267, 2025878634,\n",
       "         1514260623, 3808380479, 3990349991,  670235641,   19060679,\n",
       "         1930230681, 1201470526, 2681944457, 1795950962, 3660270200,\n",
       "          936939861,  139025277, 3207184409,  646420415, 3084114388,\n",
       "          161350220, 1689961927, 4180192371, 3886610052, 3907018471,\n",
       "         1675491391, 1352365992, 1947182747, 3787281188, 3012595431,\n",
       "         3082125964,   54686917, 3080950631, 2874423614,  455100680,\n",
       "         1218759505, 1234493962, 2389897094, 2906097260, 2024493978,\n",
       "         1998349427, 3875787574,  315284490, 1077244376, 1804403379,\n",
       "         1340418271,  727823571, 1350661174,  589642051,  490606661,\n",
       "         1074083936, 2164965855, 1208578817,  425262333,  134210442,\n",
       "         3076083327, 1740661930, 2975775733,  670281714, 1220828452,\n",
       "         1940404292,  140865492,  987740710, 4132833562, 3749064322,\n",
       "         2185252637, 2955302313, 1267708481, 2088063955, 2793265788,\n",
       "         2466483069,  421552158, 1898550732, 1345749900,  973351303,\n",
       "         2100825615, 3891281976, 1283631387, 2948157590, 2953493798,\n",
       "          854015911, 2872342041, 2073317877, 1072925938,  589165491,\n",
       "         4043357408, 1595791681, 4213956910, 1966786124, 2383214028,\n",
       "          911280076, 3497969258, 1810076738, 1274438589, 4185382457,\n",
       "         1349705846, 3013771833, 1865876192, 2998145632, 2444875657,\n",
       "         2602500371, 3976725612, 1094042988,  333344537,  865613158,\n",
       "         2758931878, 1410910320, 3908031734, 2717314224, 1766688175,\n",
       "         2920512237,  807002603,  424576363,  346571714, 3007627052,\n",
       "         1700669334,  523565110,  931724188, 1445562121, 2897611587,\n",
       "          454731195,  762012003, 1046191712, 3077161450,  189468132,\n",
       "         3626303358,  451238493, 3447829374, 3454550048,  645121998,\n",
       "         2566964824, 4126555909, 2690016943,  886611354, 1737248611,\n",
       "          637863745, 2095495080,  968054465,  677531265, 1976334039,\n",
       "         3516111910, 2546956357, 2565857124, 4248102682,  929469002,\n",
       "          141728229, 4167537131, 1871615158, 1895864554,  801171766,\n",
       "         4227779823, 2050508259,  998109220, 3201941385, 2540119174,\n",
       "           24143659, 2991375164, 4185707987, 2218759558,   80071950,\n",
       "          638174076,  131446117, 1508384799,   85247510, 2159620229,\n",
       "          748336504, 3717327995, 2314523051,  333903360,  686780015,\n",
       "         2704632180, 1226253306,  592186108,  861383891, 2484752828,\n",
       "         3148575202, 2027108329,  817681550,  797887695, 1226252910,\n",
       "         3193219276, 3493627322, 1207166185, 1700900647, 1133349354,\n",
       "         3223108918, 1842304106, 3893622536, 2280940229, 4121475985,\n",
       "         3008391088, 1765861994, 1618683830,  549013120, 2317108673,\n",
       "         2319415353, 1879608949, 4206419315,  915346504, 2869943498,\n",
       "          638566453, 4263236189, 1898878789, 3103956779, 2299448116,\n",
       "         1792700698, 2129443475,  706248944, 2072192160,  416383581,\n",
       "           52155758, 2904562042,  804422971, 3555297252,  238542550,\n",
       "         1171230983,  121288500, 3636654920, 3607837005, 3522631233,\n",
       "          249316639, 3301742297, 1571718602, 1055448994, 1155538935,\n",
       "         4164649603,   33681399, 3129790377, 2326624753, 1309938202,\n",
       "         2741125386, 4156527853, 2438230874, 2256074392, 2626881898,\n",
       "         3681237326, 1031400107,  823799356, 2251809864,  121364555,\n",
       "          618128834, 3226267136,  629974929, 1992806994, 1869627649,\n",
       "         2178898600,  687575459, 2458214968, 1657116136, 1006878111,\n",
       "         3037555105,   72848656, 1526600363, 2527467461, 2306133037,\n",
       "         2218846231, 1060181534, 1270856832,  988897426, 1761416869,\n",
       "         3001912021,  360543162, 2495704382, 2948086426, 3057798117,\n",
       "         2443101076, 2485933923,  572362962, 4155688879, 1531360563,\n",
       "         3586035476, 1461263130, 1009903823, 2168774579, 2358279927,\n",
       "         3813020578,   76978546, 1748424964,  338652029,    5699180,\n",
       "         4152574284, 2191878096, 2277181810,  559908520,  803828215,\n",
       "         2036226114, 1236870376,  762430405, 2365245803,  864316998,\n",
       "         3918472097,  317349694, 1573797523, 1909337484, 1375316662,\n",
       "         1374599337,  524984994, 1863907635,  864768607, 4011244892,\n",
       "          211414922, 2087036585,  431898614,  124543072, 2375825767,\n",
       "         1144413364, 3358188689, 2206417503, 2986309280, 2322003688,\n",
       "         3326827143, 3844364415, 3079229205,  425408090, 4134521737,\n",
       "         2723015568,  406413147, 2753897348, 4288901959, 1486409662,\n",
       "          340943276,  563651613, 3170831273,   90291482, 2626964927,\n",
       "         3855952792, 1626662242, 3766692272, 1883084535, 2812485541,\n",
       "          747600523, 4146517937, 2863644963,  859954068, 3474043162,\n",
       "          684767801, 4035809246,  750124357,   19431940,  312984399,\n",
       "          248657504, 1412415299, 3615072373, 1940396939, 2560409182,\n",
       "         3165191708, 3792798266, 1913922844, 4239368689, 3910725212,\n",
       "         1559630499, 3940696042,  742146901,  714591289, 1140177385,\n",
       "         1729776920,  682904122,  712051625, 3607002960, 1302767308,\n",
       "         2086069174, 2339249851, 2797742687,  618138736, 1393737485,\n",
       "         2180363286, 3209500864, 4288140237,  384759019, 1082738683,\n",
       "         2084227373, 2801139885, 3546134477,  438961193,  439417498,\n",
       "           87277039, 2872529541, 4183410878,  940530763, 2933764320,\n",
       "         4166526257, 1370815127, 1786487782, 1149190491, 3088712374,\n",
       "         3481681497, 2317278231, 2827955109,  121803937, 3139763193,\n",
       "           37966789, 2679949819, 2404343920, 2525838455,  579630481,\n",
       "         2481562657, 1403083456, 3368659628, 1264400799, 4150559637,\n",
       "          305426125, 3128154892, 3563139196, 1935038355,  301632180,\n",
       "         2307833045, 2346739482, 2370285134, 1586000170, 1092935984,\n",
       "          872164504, 1793029807, 3754235270, 2746592699,  511523283,\n",
       "          106929875, 4102383713,  701460343, 3545080528,  227668832,\n",
       "         2089895679,  952248070, 3427403183, 1581609082, 2275799537,\n",
       "          791005001, 3396848283,  457344944, 1880417726, 3754787891,\n",
       "         2515185577,  816600866,   27946392, 3213709571, 4278503461,\n",
       "         1984984631, 3138411281, 1298597153, 3574506441, 3318590326,\n",
       "          518836323, 2015102559, 3640955328,  278082871,   58840797,\n",
       "         1272287234,  806061747, 2126014708, 3636013437, 4258791225,\n",
       "         3365411791, 3968080536,   28701094, 3238529356,  499411845,\n",
       "         2020187657, 2265329781, 3648906788, 4285008599, 1714781305,\n",
       "          560872088, 1835725477, 4214950565, 2064516675,  954212815,\n",
       "         4191616290, 2924884639, 1337036265, 2804554628], dtype=uint32), 60, 0, 0.0))"
      ]
     },
     "execution_count": 20,
     "metadata": {},
     "output_type": "execute_result"
    }
   ],
   "source": [
    "sampler.run_mcmc(p0, 300)"
   ]
  },
  {
   "cell_type": "code",
   "execution_count": 21,
   "metadata": {
    "collapsed": true
   },
   "outputs": [],
   "source": [
    "samples = sampler.chain[:, 50:, :].reshape((-1,3))"
   ]
  },
  {
   "cell_type": "code",
   "execution_count": 22,
   "metadata": {
    "collapsed": false
   },
   "outputs": [
    {
     "name": "stdout",
     "output_type": "stream",
     "text": [
      "Requirement already satisfied (use --upgrade to upgrade): corner in c:\\users\\dell\\anaconda3\\lib\\site-packages\n",
      "Requirement already satisfied (use --upgrade to upgrade): matplotlib in c:\\users\\dell\\anaconda3\\lib\\site-packages (from corner)\n",
      "Requirement already satisfied (use --upgrade to upgrade): numpy in c:\\users\\dell\\anaconda3\\lib\\site-packages (from corner)\n",
      "Requirement already satisfied (use --upgrade to upgrade): python-dateutil in c:\\users\\dell\\anaconda3\\lib\\site-packages (from matplotlib->corner)\n",
      "Requirement already satisfied (use --upgrade to upgrade): pytz in c:\\users\\dell\\anaconda3\\lib\\site-packages (from matplotlib->corner)\n",
      "Requirement already satisfied (use --upgrade to upgrade): cycler in c:\\users\\dell\\anaconda3\\lib\\site-packages (from matplotlib->corner)\n",
      "Requirement already satisfied (use --upgrade to upgrade): pyparsing!=2.0.4,>=1.5.6 in c:\\users\\dell\\anaconda3\\lib\\site-packages (from matplotlib->corner)\n",
      "Requirement already satisfied (use --upgrade to upgrade): six>=1.5 in c:\\users\\dell\\anaconda3\\lib\\site-packages (from python-dateutil->matplotlib->corner)\n"
     ]
    },
    {
     "data": {
      "text/plain": [
       "0"
      ]
     },
     "execution_count": 22,
     "metadata": {},
     "output_type": "execute_result"
    }
   ],
   "source": [
    "pip.main(['install','corner'])"
   ]
  },
  {
   "cell_type": "code",
   "execution_count": 23,
   "metadata": {
    "collapsed": false
   },
   "outputs": [
    {
     "name": "stdout",
     "output_type": "stream",
     "text": [
      "Populating the interactive namespace from numpy and matplotlib\n"
     ]
    },
    {
     "name": "stderr",
     "output_type": "stream",
     "text": [
      "WARNING: pylab import has clobbered these variables: ['f', 'ndim', 'gamma']\n",
      "`%matplotlib` prevents importing * from pylab and numpy\n",
      "C:\\Users\\DELL\\Anaconda3\\lib\\site-packages\\matplotlib\\figure.py:397: UserWarning: matplotlib is currently using a non-GUI backend, so cannot show the figure\n",
      "  \"matplotlib is currently using a non-GUI backend, \"\n"
     ]
    },
    {
     "data": {
      "image/png": "[encoded data removed]",
      "text/plain": [
       "<matplotlib.figure.Figure at 0x24e30c82eb8>"
      ]
     },
     "metadata": {},
     "output_type": "display_data"
    }
   ],
   "source": [
    "import corner\n",
    "%pylab inline\n",
    "fig = corner.corner(samples, labels = [\"$p$\", \"$t_0$\", \"$tau$\"])\n",
    "fig.show()"
   ]
  },
  {
   "cell_type": "code",
   "execution_count": 24,
   "metadata": {
    "collapsed": true
   },
   "outputs": [],
   "source": [
    "# Therefore the best estimate should probably be p=0.0771, tau = 0.101, t0 = 124.505"
   ]
  },
  {
   "cell_type": "code",
   "execution_count": null,
   "metadata": {
    "collapsed": true
   },
   "outputs": [],
   "source": []
  }
 ],
 "metadata": {
  "anaconda-cloud": {},
  "kernelspec": {
   "display_name": "Python [Root]",
   "language": "python",
   "name": "Python [Root]"
  },
  "language_info": {
   "codemirror_mode": {
    "name": "ipython",
    "version": 3
   },
   "file_extension": ".py",
   "mimetype": "text/x-python",
   "name": "python",
   "nbconvert_exporter": "python",
   "pygments_lexer": "ipython3",
   "version": "3.5.2"
  }
 },
 "nbformat": 4,
 "nbformat_minor": 0
}
