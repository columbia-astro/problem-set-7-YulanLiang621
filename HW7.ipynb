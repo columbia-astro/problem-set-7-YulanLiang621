{
 "cells": [
  {
   "cell_type": "code",
   "execution_count": 40,
   "metadata": {
    "collapsed": false
   },
   "outputs": [
    {
     "name": "stdout",
     "output_type": "stream",
     "text": [
      "Requirement already satisfied (use --upgrade to upgrade): kplr in c:\\users\\dell\\anaconda3\\lib\\site-packages\n",
      "Requirement already satisfied (use --upgrade to upgrade): six in c:\\users\\dell\\anaconda3\\lib\\site-packages (from kplr)\n"
     ]
    },
    {
     "name": "stderr",
     "output_type": "stream",
     "text": [
      "You are using pip version 8.1.2, however version 9.0.3 is available.\n",
      "You should consider upgrading via the 'python -m pip install --upgrade pip' command.\n"
     ]
    },
    {
     "data": {
      "text/plain": [
       "0"
      ]
     },
     "execution_count": 40,
     "metadata": {},
     "output_type": "execute_result"
    }
   ],
   "source": [
    "import pip\n",
    "pip.main(['install','kplr'])"
   ]
  },
  {
   "cell_type": "code",
   "execution_count": 41,
   "metadata": {
    "collapsed": false
   },
   "outputs": [
    {
     "name": "stdout",
     "output_type": "stream",
     "text": [
      "Found local file: 'C:\\Users\\DELL\\.kplr\\data\\lightcurves\\005780885\\kplr005780885-2009131105131_llc.fits'\n"
     ]
    },
    {
     "data": {
      "text/plain": [
       "<bound method HDUList.close of [<astropy.io.fits.hdu.image.PrimaryHDU object at 0x000002574EC6FFD0>, <astropy.io.fits.hdu.table.BinTableHDU object at 0x000002574FA9F630>, <astropy.io.fits.hdu.image.ImageHDU object at 0x000002574FAE9C50>]>"
      ]
     },
     "execution_count": 41,
     "metadata": {},
     "output_type": "execute_result"
    }
   ],
   "source": [
    "import math\n",
    "import numpy as np\n",
    "import kplr\n",
    "\n",
    "#find the target KOI\n",
    "client = kplr.API()\n",
    "koi = client.koi(97.01)\n",
    "\n",
    "#Get a list of light curve datasets\n",
    "lcs = koi.get_light_curves(short_cadence=False)\n",
    "\n",
    "#Open the first dataset and read it\n",
    "f = lcs[0].open()\n",
    "hdu_data = f[1].data\n",
    "time = hdu_data[\"time\"] # get the time of each observation\n",
    "flux = hdu_data[\"sap_flux\"] # get the flux\n",
    "flux_err = hdu_data[\"sap_flux_err\"] # get the error in the flux\n",
    "f.close"
   ]
  },
  {
   "cell_type": "code",
   "execution_count": 42,
   "metadata": {
    "collapsed": false
   },
   "outputs": [],
   "source": [
    "index = np.where((time > 124)& (time < 125))\n",
    "time_obs = time[index]\n",
    "flux_obs = flux[index]\n",
    "flux_err_obs = flux_err[index]"
   ]
  },
  {
   "cell_type": "code",
   "execution_count": 43,
   "metadata": {
    "collapsed": false
   },
   "outputs": [],
   "source": [
    "# problem 1\n",
    "import numpy as np\n",
    "import math\n",
    "\n",
    "def F_com(flux):\n",
    "    flux_list=[]\n",
    "    a = np.mean(flux)\n",
    "    b = np.std(flux)\n",
    "    for i in range(0,len(flux),1):\n",
    "        if (abs(flux[i]-a)/b<=2):\n",
    "            flux_list.append(flux[i])\n",
    "    return flux_list\n",
    "\n",
    "#repeat 8 times to obtain Fbar\n",
    "flux=flux_obs\n",
    "for j in range(1,8,1):\n",
    "    flux=F_com(flux)\n",
    "flux_mean = sum(flux)/len(flux)\n",
    "flux = flux_obs/flux_mean\n",
    "flux_err = flux_err_obs/flux_mean\n",
    "\n",
    "#find  chi square using the guessing parameters\n",
    "tao = 0.1\n",
    "t0 = 124.51\n",
    "z = (time_obs-t0)/tao\n",
    "\n",
    "def rect_int(integrand, lim_0, lim_1, nx):\n",
    "    \"\"\"rectangle rule integration.\n",
    "         integrand: the function f(x) to be integrated.\n",
    "         lim_0 and lim_1: lower and upper integration limits\n",
    "         nx: the number of integration steps\"\"\"\n",
    "    delx = (lim_1 - lim_0) / float(nx)  #rectangle width\n",
    "    result = 0\n",
    "    for i in np.arange(int(nx)):\n",
    "        x       = lim_0 + i * delx   #the current ordinate\n",
    "        f_x     = integrand(x)       #using the function provided\n",
    "        result += f_x*delx           #a += 1 same as a = a + 1\n",
    "    return result\n",
    "\n",
    "def delta(p, r, z):\n",
    "    \"\"\"returns the value of the delta function (equation 2),\n",
    "    protecting against obvious fault.\"\"\"\n",
    "    if (r >= z + p) or (r <= z - p):\n",
    "        return 0\n",
    "    elif (r + z <= p):\n",
    "        return 1\n",
    "    else:  #all other cases\n",
    "        if (z != 0) and (r!=0): #prevent div by zero errors\n",
    "            argument = (z*z - p*p + r*r) / (2.0*z*r)\n",
    "        else:\n",
    "            print('Either z or r vanished. z =',z,'; and r =',r,'.')\n",
    "        return (1.0/math.pi) * math.acos(argument)\n",
    "    \n",
    "def mu(r):\n",
    "    return (1-r**2)**0.5\n",
    "def limb_func(r):\n",
    "    return 1-(1-mu(r)**0.5)    \n",
    "\n",
    "def flux_func(p,z,int_func,limb_func, nx):\n",
    "    \"\"\"return the value of the flux, using equation 1. p & z are the \n",
    "    parameters, int_func is the integration routine, limb_func is the \n",
    "    chosen limb darkening profile, and nx is the number of integration \n",
    "    steps.\"\"\"\n",
    "    \n",
    "    # integrand for the numerator\n",
    "    def numerator(r, p = p, z = z):  #default parameters allow passing data\n",
    "        return limb_func(r) * (1.0 - delta(p, r, z)) * 2.0 * r\n",
    "    \n",
    "    # and for the denominator\n",
    "    def denominator (r):\n",
    "        return limb_func(r) * 2.0 * r\n",
    "    \n",
    "    #now do the integrations\n",
    "    top    = int_func(numerator,   0.0, 1.0, nx)\n",
    "    bottom = int_func(denominator, 0.0, 1.0, nx)\n",
    "        \n",
    "    return top/bottom\n",
    "\n",
    "F_estimated = []\n",
    "for i in range(0,len(flux),1):\n",
    "    F_estimated.append(flux_func(0.0775, abs(z[i]),rect_int,limb_func, 10**3))\n",
    "\n",
    "X_square=0\n",
    "for i in range(0,len(flux),1):\n",
    "    X_square = X_square + ((flux[i]-F_estimated[i])/flux_err[i])**2   "
   ]
  },
  {
   "cell_type": "code",
   "execution_count": 44,
   "metadata": {
    "collapsed": false
   },
   "outputs": [
    {
     "name": "stdout",
     "output_type": "stream",
     "text": [
      "X_square= 464.170373532\n"
     ]
    }
   ],
   "source": [
    "print(\"X_square=\", X_square)"
   ]
  },
  {
   "cell_type": "code",
   "execution_count": 45,
   "metadata": {
    "collapsed": false
   },
   "outputs": [
    {
     "data": {
      "image/png": "[encoded data removed]",
      "text/plain": [
       "<matplotlib.figure.Figure at 0x2574ed36668>"
      ]
     },
     "metadata": {},
     "output_type": "display_data"
    },
    {
     "name": "stdout",
     "output_type": "stream",
     "text": [
      "It is a good fit\n"
     ]
    }
   ],
   "source": [
    "# problem 2\n",
    "import matplotlib.pyplot as plt\n",
    "%matplotlib inline\n",
    "p1 = plt.scatter(z, flux, marker = '.', color = 'blue')\n",
    "p2 = plt.scatter(z, F_estimated, marker = 'x',color = 'green')\n",
    "plt.xlabel('z')\n",
    "plt.ylabel('flux')\n",
    "plt.show()\n",
    "print(\"It is a good fit\")\n"
   ]
  },
  {
   "cell_type": "code",
   "execution_count": 46,
   "metadata": {
    "collapsed": false
   },
   "outputs": [
    {
     "name": "stdout",
     "output_type": "stream",
     "text": [
      "Q = [  1.75064678e-70   1.48683023e-73]\n",
      "p_value is too small thus it is not a good fit\n"
     ]
    }
   ],
   "source": [
    "N = len(flux)\n",
    "M = 3\n",
    "V = N-M\n",
    "\n",
    "import numpy as np\n",
    "from scipy.special import gamma\n",
    "from scipy.integrate import quad,dblquad,nquad\n",
    "\n",
    "Q = quad(lambda x:np.exp(-x)*x**(V/2-1), X_square/2,np.inf)/gamma(V/2)\n",
    "print(\"Q =\", Q)\n",
    "print(\"p_value is too small thus it is not a good fit\")"
   ]
  },
  {
   "cell_type": "code",
   "execution_count": 47,
   "metadata": {
    "collapsed": false
   },
   "outputs": [
    {
     "name": "stdout",
     "output_type": "stream",
     "text": [
      "minimum chi square = 245.082238281\n",
      "corresponding tao = 0.09700000000000002\n"
     ]
    }
   ],
   "source": [
    "#problem 3\n",
    "import numpy as np\n",
    "tao =0.08\n",
    "t0 = 124.51\n",
    "tao_list = []\n",
    "X_square_list = []\n",
    "while tao<0.13:\n",
    "    tao_list.append(tao)\n",
    "    z = (time_obs-t0)/tao\n",
    "    F_estimated = []\n",
    "    X_square=0\n",
    "    for i in range(0, len(flux), 1):\n",
    "        F_estimated.append(flux_func(0.0775, abs(z[i]),rect_int,limb_func, 10**3))\n",
    "        X_square = X_square + ((flux[i] - F_estimated[i])/flux_err[i])**2\n",
    "    X_square_list.append(X_square)\n",
    "    tao = tao+0.001\n",
    "    \n",
    "index = np.where(X_square_list==np.min(X_square_list))\n",
    "print(\"minimum chi square =\", X_square_list[17])\n",
    "print(\"corresponding tao =\", tao_list[17])       "
   ]
  },
  {
   "cell_type": "code",
   "execution_count": 49,
   "metadata": {
    "collapsed": false
   },
   "outputs": [
    {
     "data": {
      "image/png": "[encoded data removed]",
      "text/plain": [
       "<matplotlib.figure.Figure at 0x25750c016d8>"
      ]
     },
     "metadata": {},
     "output_type": "display_data"
    },
    {
     "name": "stdout",
     "output_type": "stream",
     "text": [
      "Q = [  5.72161036e-29   8.49177109e-31]\n",
      "p_value is too small thus it is not a good fit\n"
     ]
    }
   ],
   "source": [
    "# plot the result\n",
    "tao = 0.097\n",
    "z= (time_obs-t0)/tao\n",
    "t0 = 124.51\n",
    "F_estimated=[]\n",
    "for i in range(0, len(flux), 1):\n",
    "    F_estimated.append(flux_func(0.0775, abs(z[i]),rect_int,limb_func, 10**3))\n",
    "    \n",
    "import matplotlib.pyplot as plt\n",
    "%matplotlib inline\n",
    "p1 = plt.scatter(z, flux, marker = '.', color = 'blue')\n",
    "p2 = plt.scatter(z, F_estimated, marker = 'x',color = 'green')\n",
    "plt.xlabel('z')\n",
    "plt.ylabel('flux')\n",
    "plt.show()\n",
    "\n",
    "N = len(flux)\n",
    "M = 3\n",
    "V = N-M\n",
    "\n",
    "import numpy as np\n",
    "from scipy.special import gamma\n",
    "from scipy.integrate import quad,dblquad,nquad\n",
    "\n",
    "Q = quad(lambda x:np.exp(-x)*x**(V/2-1), X_square_list[17]/2,np.inf)/gamma(V/2)\n",
    "print(\"Q =\", Q)\n",
    "print(\"p_value is too small thus it is not a good fit\")"
   ]
  },
  {
   "cell_type": "code",
   "execution_count": null,
   "metadata": {
    "collapsed": false
   },
   "outputs": [],
   "source": [
    "#determine the one-sigma uncertainty\n",
    "tao = 0.0965\n",
    "t0 = 124.51\n",
    "X_square_list2 = []\n",
    "tao_list2 = []\n",
    "while tao < 0.0975:\n",
    "    tao_list2.append(tao)\n",
    "    z=(time_obs-t0)/tao\n",
    "    F_estimated2 = []\n",
    "    X_square = 0\n",
    "    for i in range(0,len(flux),1):\n",
    "        F_estimated2.append(flux_func(0.0775, abs(z[i]),rect_int,limb_func, 10**3))\n",
    "        X_square = X_square + ((flux[i]-F_estimated2[i])/flux_err[i])**2\n",
    "    X_square_list2.append(X_square)\n",
    "    tao=tao+0.00001"
   ]
  },
  {
   "cell_type": "code",
   "execution_count": null,
   "metadata": {
    "collapsed": false
   },
   "outputs": [
    {
     "data": {
      "image/png": "[encoded data removed]",
      "text/plain": [
       "<matplotlib.figure.Figure at 0x25750c55c50>"
      ]
     },
     "metadata": {},
     "output_type": "display_data"
    }
   ],
   "source": [
    "import matplotlib.pyplot as plt\n",
    "%matplotlib inline\n",
    "plt.scatter(tao_list2, X_square_list2, marker = '.', color = 'blue')\n",
    "y= X_square_list[17]+1\n",
    "plt.plot(tao,y,color = 'green')\n",
    "plt.xlabel('tao')\n",
    "plt.ylabel('chi square')\n",
    "plt.show()"
   ]
  },
  {
   "cell_type": "code",
   "execution_count": null,
   "metadata": {
    "collapsed": false
   },
   "outputs": [],
   "source": [
    "index = np.where(X_square_list2 < X_square_list[17]+1)\n",
    "index"
   ]
  },
  {
   "cell_type": "code",
   "execution_count": 33,
   "metadata": {
    "collapsed": false
   },
   "outputs": [
    {
     "name": "stdout",
     "output_type": "stream",
     "text": [
      "one_sigma uncertainty = 0.0004399999999998294\n"
     ]
    }
   ],
   "source": [
    "u = tao_list2[63]-tao_list2[19]\n",
    "print(\"one_sigma uncertainty =\", u)"
   ]
  },
  {
   "cell_type": "code",
   "execution_count": 34,
   "metadata": {
    "collapsed": false
   },
   "outputs": [
    {
     "name": "stdout",
     "output_type": "stream",
     "text": [
      "Collecting emcee\n",
      "  Downloading emcee-2.2.1.tar.gz\n",
      "Requirement already satisfied (use --upgrade to upgrade): numpy in c:\\users\\dell\\anaconda3\\lib\\site-packages (from emcee)\n",
      "Building wheels for collected packages: emcee\n",
      "  Running setup.py bdist_wheel for emcee: started\n",
      "  Running setup.py bdist_wheel for emcee: finished with status 'done'\n",
      "  Stored in directory: C:\\Users\\DELL\\AppData\\Local\\pip\\Cache\\wheels\\4e\\29\\27\\417d1cb44565c479884d659a93edb24ff031d470db2be3b9dd\n",
      "Successfully built emcee\n",
      "Installing collected packages: emcee\n",
      "Successfully installed emcee-2.2.1\n"
     ]
    },
    {
     "name": "stderr",
     "output_type": "stream",
     "text": [
      "You are using pip version 8.1.2, however version 9.0.3 is available.\n",
      "You should consider upgrading via the 'python -m pip install --upgrade pip' command.\n"
     ]
    },
    {
     "data": {
      "text/plain": [
       "0"
      ]
     },
     "execution_count": 34,
     "metadata": {},
     "output_type": "execute_result"
    }
   ],
   "source": [
    "#problem 4\n",
    "import pip\n",
    "pip.main(['install','emcee'])"
   ]
  },
  {
   "cell_type": "code",
   "execution_count": null,
   "metadata": {
    "collapsed": true
   },
   "outputs": [],
   "source": [
    "import emcee"
   ]
  }
 ],
 "metadata": {
  "anaconda-cloud": {},
  "kernelspec": {
   "display_name": "Python [Root]",
   "language": "python",
   "name": "Python [Root]"
  },
  "language_info": {
   "codemirror_mode": {
    "name": "ipython",
    "version": 3
   },
   "file_extension": ".py",
   "mimetype": "text/x-python",
   "name": "python",
   "nbconvert_exporter": "python",
   "pygments_lexer": "ipython3",
   "version": "3.5.2"
  }
 },
 "nbformat": 4,
 "nbformat_minor": 0
}
